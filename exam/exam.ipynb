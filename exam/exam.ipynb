class Exam:
   def init(self, danni):
        self.danni = danni;
        if isinstance(danni, (int, float)):
            print(f"Виникла помилка, аргумент числовий ")
        else:
            print(danni)


my_exam1 = Exam(5)
my_exam2 = Exam("Стрічка")
